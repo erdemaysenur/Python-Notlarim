{
  "nbformat": 4,
  "nbformat_minor": 0,
  "metadata": {
    "kernelspec": {
      "display_name": "Python 3",
      "language": "python",
      "name": "python3"
    },
    "language_info": {
      "codemirror_mode": {
        "name": "ipython",
        "version": 3
      },
      "file_extension": ".py",
      "mimetype": "text/x-python",
      "name": "python",
      "nbconvert_exporter": "python",
      "pygments_lexer": "ipython3",
      "version": "3.8.3"
    },
    "colab": {
      "name": "feature_engineering.ipynb",
      "provenance": [],
      "collapsed_sections": [],
      "include_colab_link": true
    }
  },
  "cells": [
    {
      "cell_type": "markdown",
      "metadata": {
        "id": "view-in-github",
        "colab_type": "text"
      },
      "source": [
        "<a href=\"https://colab.research.google.com/github/er-ay/Feature_engineering/blob/main/feature_engineering.ipynb\" target=\"_parent\"><img src=\"https://colab.research.google.com/assets/colab-badge.svg\" alt=\"Open In Colab\"/></a>"
      ]
    },
    {
      "cell_type": "markdown",
      "metadata": {
        "id": "tF4x3wTLKu_E"
      },
      "source": [
        "# Feature Engineering"
      ]
    },
    {
      "cell_type": "markdown",
      "metadata": {
        "id": "xbrPL8IpKu_I"
      },
      "source": [
        "Makine öğrenmesinde modelin iyi öğrenmesini sağlamak, yüksek doğruluğa sahip çıktı almak modelin eğitildiği verinin ne kadar iyi işlendiğine bağlıdır. Veri setleri farklı veri tipleri içeren, eksik girilmiş veya farklı aralıklarda sayısal değere sahip kolonlardan oluşabilir. Bu durum, ağın doğru ilişkiyi kuramamasına dolayısıyla öğrenmeyi gerçekleştirememesine sebep olur. Bu sorunu ortadan kaldırmak için çeşitli yöntemler kullanılır. Python dilinde bu işlemleri gerçekleştirmek için geliştirilmiş Pandas kütüphanesi büyük kolaylık sağlar.\n",
        "\n",
        "Veri tipleri:\n",
        "+ Categorical\n",
        "+ Ordinal\n",
        "+ Continious\n",
        "+ Datetime\n",
        "+ Boolean"
      ]
    },
    {
      "cell_type": "markdown",
      "metadata": {
        "id": "D5qLNTvQKu_L"
      },
      "source": [
        "## Pandas"
      ]
    },
    {
      "cell_type": "code",
      "metadata": {
        "id": "OaljeGU3Ku_P"
      },
      "source": [
        "import pandas as pd"
      ],
      "execution_count": null,
      "outputs": []
    },
    {
      "cell_type": "code",
      "metadata": {
        "id": "6TCF4gHEKu_i"
      },
      "source": [
        "df = pd.read_csv(path)"
      ],
      "execution_count": null,
      "outputs": []
    },
    {
      "cell_type": "code",
      "metadata": {
        "id": "Cwt7zd6RKu_x"
      },
      "source": [
        "df.head() #Verinin ilk 5 satırına göz atmak için\n",
        "df.columns #Kolonları yazdırır.\n",
        "df.dtypes #Veri tiplerini yazdırır\n",
        "df.select_dtypes(include=['dtype']) #Belirli bir veri tipi seçer. dtype int,float vb. olabilir"
      ],
      "execution_count": null,
      "outputs": []
    },
    {
      "cell_type": "markdown",
      "metadata": {
        "id": "Dww26reAKvAA"
      },
      "source": [
        "## Encoding"
      ]
    },
    {
      "cell_type": "markdown",
      "metadata": {
        "id": "Ml6tHhXYKvAD"
      },
      "source": [
        "Gerçek hayatta insanların anlayabileceği kategorik verileri (renk,yaş,ülke vb.) bilgisayarın anlayabileceği nümerik verilere dönüştürme işlemine encoding denir."
      ]
    },
    {
      "cell_type": "code",
      "metadata": {
        "id": "yUgmzZ5jKvAF",
        "outputId": "3a8743d3-79fe-4a31-bbba-d4d67621b1c3"
      },
      "source": [
        "d = {'Meyve' : ['Elma','Armut','Muz','Muz','Üzüm','Armut']}\n",
        "veri = pd.DataFrame(data=d)\n",
        "veri"
      ],
      "execution_count": null,
      "outputs": [
        {
          "output_type": "execute_result",
          "data": {
            "text/html": [
              "<div>\n",
              "<style scoped>\n",
              "    .dataframe tbody tr th:only-of-type {\n",
              "        vertical-align: middle;\n",
              "    }\n",
              "\n",
              "    .dataframe tbody tr th {\n",
              "        vertical-align: top;\n",
              "    }\n",
              "\n",
              "    .dataframe thead th {\n",
              "        text-align: right;\n",
              "    }\n",
              "</style>\n",
              "<table border=\"1\" class=\"dataframe\">\n",
              "  <thead>\n",
              "    <tr style=\"text-align: right;\">\n",
              "      <th></th>\n",
              "      <th>Meyve</th>\n",
              "    </tr>\n",
              "  </thead>\n",
              "  <tbody>\n",
              "    <tr>\n",
              "      <th>0</th>\n",
              "      <td>Elma</td>\n",
              "    </tr>\n",
              "    <tr>\n",
              "      <th>1</th>\n",
              "      <td>Armut</td>\n",
              "    </tr>\n",
              "    <tr>\n",
              "      <th>2</th>\n",
              "      <td>Muz</td>\n",
              "    </tr>\n",
              "    <tr>\n",
              "      <th>3</th>\n",
              "      <td>Muz</td>\n",
              "    </tr>\n",
              "    <tr>\n",
              "      <th>4</th>\n",
              "      <td>Üzüm</td>\n",
              "    </tr>\n",
              "    <tr>\n",
              "      <th>5</th>\n",
              "      <td>Armut</td>\n",
              "    </tr>\n",
              "  </tbody>\n",
              "</table>\n",
              "</div>"
            ],
            "text/plain": [
              "   Meyve\n",
              "0   Elma\n",
              "1  Armut\n",
              "2    Muz\n",
              "3    Muz\n",
              "4   Üzüm\n",
              "5  Armut"
            ]
          },
          "metadata": {
            "tags": []
          },
          "execution_count": 8
        }
      ]
    },
    {
      "cell_type": "markdown",
      "metadata": {
        "id": "Q2K7kL6xKvAa"
      },
      "source": [
        "Bu verideki meyveleri nümerik verilere çevirmek için encoding yapabiliriz. Her meyveye sayısal bir değer atamak, kategorik verinin birinin diğerinden daha büyük değere sahip olması şeklinde öğrenileceği için doğru bir yöntem olmayacaktır.\n",
        "Elma = 1, Armut = 2 => Armut > Elma gibi.\n",
        "Bunun için her özelliğin o satırda seçilip seçilmediğini gösterecek binary şekilde kodlanır. Bunun için 2 farklı kodlama yapılabilir:\n",
        "\n",
        "1. One-hot encoding\n",
        "2. Dummy encoding\n",
        "\n",
        "2 yöntemde pandasta aynı şekilde çağrılır."
      ]
    },
    {
      "cell_type": "code",
      "metadata": {
        "id": "wzIOCgyPKvAc",
        "outputId": "cd98392e-b46b-42d8-93d3-f78f429ea96a"
      },
      "source": [
        "pd.get_dummies(veri, columns=['Meyve'], prefix='M')"
      ],
      "execution_count": null,
      "outputs": [
        {
          "output_type": "execute_result",
          "data": {
            "text/html": [
              "<div>\n",
              "<style scoped>\n",
              "    .dataframe tbody tr th:only-of-type {\n",
              "        vertical-align: middle;\n",
              "    }\n",
              "\n",
              "    .dataframe tbody tr th {\n",
              "        vertical-align: top;\n",
              "    }\n",
              "\n",
              "    .dataframe thead th {\n",
              "        text-align: right;\n",
              "    }\n",
              "</style>\n",
              "<table border=\"1\" class=\"dataframe\">\n",
              "  <thead>\n",
              "    <tr style=\"text-align: right;\">\n",
              "      <th></th>\n",
              "      <th>M_Armut</th>\n",
              "      <th>M_Elma</th>\n",
              "      <th>M_Muz</th>\n",
              "      <th>M_Üzüm</th>\n",
              "    </tr>\n",
              "  </thead>\n",
              "  <tbody>\n",
              "    <tr>\n",
              "      <th>0</th>\n",
              "      <td>0</td>\n",
              "      <td>1</td>\n",
              "      <td>0</td>\n",
              "      <td>0</td>\n",
              "    </tr>\n",
              "    <tr>\n",
              "      <th>1</th>\n",
              "      <td>1</td>\n",
              "      <td>0</td>\n",
              "      <td>0</td>\n",
              "      <td>0</td>\n",
              "    </tr>\n",
              "    <tr>\n",
              "      <th>2</th>\n",
              "      <td>0</td>\n",
              "      <td>0</td>\n",
              "      <td>1</td>\n",
              "      <td>0</td>\n",
              "    </tr>\n",
              "    <tr>\n",
              "      <th>3</th>\n",
              "      <td>0</td>\n",
              "      <td>0</td>\n",
              "      <td>1</td>\n",
              "      <td>0</td>\n",
              "    </tr>\n",
              "    <tr>\n",
              "      <th>4</th>\n",
              "      <td>0</td>\n",
              "      <td>0</td>\n",
              "      <td>0</td>\n",
              "      <td>1</td>\n",
              "    </tr>\n",
              "    <tr>\n",
              "      <th>5</th>\n",
              "      <td>1</td>\n",
              "      <td>0</td>\n",
              "      <td>0</td>\n",
              "      <td>0</td>\n",
              "    </tr>\n",
              "  </tbody>\n",
              "</table>\n",
              "</div>"
            ],
            "text/plain": [
              "   M_Armut  M_Elma  M_Muz  M_Üzüm\n",
              "0        0       1      0       0\n",
              "1        1       0      0       0\n",
              "2        0       0      1       0\n",
              "3        0       0      1       0\n",
              "4        0       0      0       1\n",
              "5        1       0      0       0"
            ]
          },
          "metadata": {
            "tags": []
          },
          "execution_count": 9
        }
      ]
    },
    {
      "cell_type": "markdown",
      "metadata": {
        "id": "iLSfC-nXKvAr"
      },
      "source": [
        "One-hot encoding n kategori için n kodlama yapar. get_dummies fonksiyonu ile one-hot encoding gerçekleştirilir. drop_first metodu eklenerek ise dummies encoding sağlanır. Dummies encoding n özellik için n-1 kodlama yapar ve kodlanmayan 1 seçenek kodlananların hiçbiri olmayan (hepsinin 0 olduğu) diğer durumu ifade eder."
      ]
    },
    {
      "cell_type": "code",
      "metadata": {
        "id": "2esbaXOYKvAu",
        "outputId": "012ddf1a-7967-42f7-8bb7-7d3074f4cf1d"
      },
      "source": [
        "pd.get_dummies(veri, columns=['Meyve'], drop_first=True, prefix='M')"
      ],
      "execution_count": null,
      "outputs": [
        {
          "output_type": "execute_result",
          "data": {
            "text/html": [
              "<div>\n",
              "<style scoped>\n",
              "    .dataframe tbody tr th:only-of-type {\n",
              "        vertical-align: middle;\n",
              "    }\n",
              "\n",
              "    .dataframe tbody tr th {\n",
              "        vertical-align: top;\n",
              "    }\n",
              "\n",
              "    .dataframe thead th {\n",
              "        text-align: right;\n",
              "    }\n",
              "</style>\n",
              "<table border=\"1\" class=\"dataframe\">\n",
              "  <thead>\n",
              "    <tr style=\"text-align: right;\">\n",
              "      <th></th>\n",
              "      <th>M_Elma</th>\n",
              "      <th>M_Muz</th>\n",
              "      <th>M_Üzüm</th>\n",
              "    </tr>\n",
              "  </thead>\n",
              "  <tbody>\n",
              "    <tr>\n",
              "      <th>0</th>\n",
              "      <td>1</td>\n",
              "      <td>0</td>\n",
              "      <td>0</td>\n",
              "    </tr>\n",
              "    <tr>\n",
              "      <th>1</th>\n",
              "      <td>0</td>\n",
              "      <td>0</td>\n",
              "      <td>0</td>\n",
              "    </tr>\n",
              "    <tr>\n",
              "      <th>2</th>\n",
              "      <td>0</td>\n",
              "      <td>1</td>\n",
              "      <td>0</td>\n",
              "    </tr>\n",
              "    <tr>\n",
              "      <th>3</th>\n",
              "      <td>0</td>\n",
              "      <td>1</td>\n",
              "      <td>0</td>\n",
              "    </tr>\n",
              "    <tr>\n",
              "      <th>4</th>\n",
              "      <td>0</td>\n",
              "      <td>0</td>\n",
              "      <td>1</td>\n",
              "    </tr>\n",
              "    <tr>\n",
              "      <th>5</th>\n",
              "      <td>0</td>\n",
              "      <td>0</td>\n",
              "      <td>0</td>\n",
              "    </tr>\n",
              "  </tbody>\n",
              "</table>\n",
              "</div>"
            ],
            "text/plain": [
              "   M_Elma  M_Muz  M_Üzüm\n",
              "0       1      0       0\n",
              "1       0      0       0\n",
              "2       0      1       0\n",
              "3       0      1       0\n",
              "4       0      0       1\n",
              "5       0      0       0"
            ]
          },
          "metadata": {
            "tags": []
          },
          "execution_count": 11
        }
      ]
    },
    {
      "cell_type": "markdown",
      "metadata": {
        "id": "VNrIeTChKvBE"
      },
      "source": [
        "Özelliklerin sayısını görmek için:"
      ]
    },
    {
      "cell_type": "code",
      "metadata": {
        "id": "MfkcK88hKvBG",
        "outputId": "4f5a4001-cb5e-4868-fae9-baa15bb749cc"
      },
      "source": [
        "counts = veri['Meyve'].value_counts()\n",
        "counts"
      ],
      "execution_count": null,
      "outputs": [
        {
          "output_type": "execute_result",
          "data": {
            "text/plain": [
              "Armut    2\n",
              "Muz      2\n",
              "Üzüm     1\n",
              "Elma     1\n",
              "Name: Meyve, dtype: int64"
            ]
          },
          "metadata": {
            "tags": []
          },
          "execution_count": 13
        }
      ]
    },
    {
      "cell_type": "code",
      "metadata": {
        "id": "URP3KOGnKvBQ"
      },
      "source": [
        "Özellikleri sınırlamak için:"
      ],
      "execution_count": null,
      "outputs": []
    },
    {
      "cell_type": "code",
      "metadata": {
        "id": "UN4mpn6cKvCc",
        "outputId": "8b554ac2-8e5c-4c07-cfeb-3c78d3736d31"
      },
      "source": [
        "mask = veri['Meyve'].isin(counts[counts < 2].index)\n",
        "mask"
      ],
      "execution_count": null,
      "outputs": [
        {
          "output_type": "execute_result",
          "data": {
            "text/plain": [
              "0     True\n",
              "1    False\n",
              "2    False\n",
              "3    False\n",
              "4     True\n",
              "5    False\n",
              "Name: Meyve, dtype: bool"
            ]
          },
          "metadata": {
            "tags": []
          },
          "execution_count": 16
        }
      ]
    },
    {
      "cell_type": "code",
      "metadata": {
        "id": "f9tkv46HKvCo",
        "outputId": "39a1fb43-0e4c-414c-dacf-ae90c729a531"
      },
      "source": [
        "veri[mask] = 'Other'\n",
        "veri['Meyve'].value_counts()"
      ],
      "execution_count": null,
      "outputs": [
        {
          "output_type": "execute_result",
          "data": {
            "text/plain": [
              "Muz      2\n",
              "Other    2\n",
              "Armut    2\n",
              "Name: Meyve, dtype: int64"
            ]
          },
          "metadata": {
            "tags": []
          },
          "execution_count": 23
        }
      ]
    },
    {
      "cell_type": "markdown",
      "metadata": {
        "id": "ZsE9GjZ7KvCy"
      },
      "source": [
        "Veri setinde 2den az bulunan özellikler (Elma,Üzüm) maskeleyip onların sayısının 'Other' şeklinde ifade ettik. Bu şekilde veri setinde belli bir sayıdan az, önem ifade etmeyen elemanları maskelemiş olduk."
      ]
    },
    {
      "cell_type": "markdown",
      "metadata": {
        "id": "1S55gDOiKvC5"
      },
      "source": [
        "### Nümerik değişkenleri binary ifade etmek (Binarizing)"
      ]
    },
    {
      "cell_type": "markdown",
      "metadata": {
        "id": "AmYicTWHKvC7"
      },
      "source": [
        "Öğrenci devamsızlıklarından oluşan bir veri seti olsun. Belirli sayıda devamsızlık yapmış olan öğrencileri belirlemek isteyelim."
      ]
    },
    {
      "cell_type": "code",
      "metadata": {
        "id": "ul2vDe-5KvC9",
        "outputId": "669b370c-aef4-43e1-fc89-5c40fbc6939a"
      },
      "source": [
        "data = { 'ogrenci':['Ali','Veli','Ahmet','Ayse','Merve','Betul'], 'devamsizlik':[1,3,2,10,2,4]}\n",
        "ogr_dev = pd.DataFrame(data=data)\n",
        "ogr_dev"
      ],
      "execution_count": null,
      "outputs": [
        {
          "output_type": "execute_result",
          "data": {
            "text/html": [
              "<div>\n",
              "<style scoped>\n",
              "    .dataframe tbody tr th:only-of-type {\n",
              "        vertical-align: middle;\n",
              "    }\n",
              "\n",
              "    .dataframe tbody tr th {\n",
              "        vertical-align: top;\n",
              "    }\n",
              "\n",
              "    .dataframe thead th {\n",
              "        text-align: right;\n",
              "    }\n",
              "</style>\n",
              "<table border=\"1\" class=\"dataframe\">\n",
              "  <thead>\n",
              "    <tr style=\"text-align: right;\">\n",
              "      <th></th>\n",
              "      <th>ogrenci</th>\n",
              "      <th>devamsizlik</th>\n",
              "    </tr>\n",
              "  </thead>\n",
              "  <tbody>\n",
              "    <tr>\n",
              "      <th>0</th>\n",
              "      <td>Ali</td>\n",
              "      <td>1</td>\n",
              "    </tr>\n",
              "    <tr>\n",
              "      <th>1</th>\n",
              "      <td>Veli</td>\n",
              "      <td>3</td>\n",
              "    </tr>\n",
              "    <tr>\n",
              "      <th>2</th>\n",
              "      <td>Ahmet</td>\n",
              "      <td>2</td>\n",
              "    </tr>\n",
              "    <tr>\n",
              "      <th>3</th>\n",
              "      <td>Ayse</td>\n",
              "      <td>10</td>\n",
              "    </tr>\n",
              "    <tr>\n",
              "      <th>4</th>\n",
              "      <td>Merve</td>\n",
              "      <td>2</td>\n",
              "    </tr>\n",
              "    <tr>\n",
              "      <th>5</th>\n",
              "      <td>Betul</td>\n",
              "      <td>4</td>\n",
              "    </tr>\n",
              "  </tbody>\n",
              "</table>\n",
              "</div>"
            ],
            "text/plain": [
              "  ogrenci  devamsizlik\n",
              "0     Ali            1\n",
              "1    Veli            3\n",
              "2   Ahmet            2\n",
              "3    Ayse           10\n",
              "4   Merve            2\n",
              "5   Betul            4"
            ]
          },
          "metadata": {
            "tags": []
          },
          "execution_count": 2
        }
      ]
    },
    {
      "cell_type": "markdown",
      "metadata": {
        "id": "jXFPRCQ8KvDL"
      },
      "source": [
        "Yeni bir kolon oluşturup devamsızlığı 5 günden fazla olan öğrencileri binary olarak ifade edelim. Başlangıç olarak tüm değerler 0."
      ]
    },
    {
      "cell_type": "code",
      "metadata": {
        "id": "MITMcPSHKvDN"
      },
      "source": [
        "ogr_dev['uyari'] = 0"
      ],
      "execution_count": null,
      "outputs": []
    },
    {
      "cell_type": "markdown",
      "metadata": {
        "id": "IPHwxnQwKvDj"
      },
      "source": [
        "### Veri setinden alt grup seçimi: loc"
      ]
    },
    {
      "cell_type": "code",
      "metadata": {
        "id": "H2iEbPLQKvDl",
        "outputId": "70efef81-2ada-4f0b-e2de-a8bed618c7d7"
      },
      "source": [
        "ogr_dev.loc[ogr_dev['devamsizlik'] > 5, 'uyari'] = 1\n",
        "ogr_dev"
      ],
      "execution_count": null,
      "outputs": [
        {
          "output_type": "execute_result",
          "data": {
            "text/html": [
              "<div>\n",
              "<style scoped>\n",
              "    .dataframe tbody tr th:only-of-type {\n",
              "        vertical-align: middle;\n",
              "    }\n",
              "\n",
              "    .dataframe tbody tr th {\n",
              "        vertical-align: top;\n",
              "    }\n",
              "\n",
              "    .dataframe thead th {\n",
              "        text-align: right;\n",
              "    }\n",
              "</style>\n",
              "<table border=\"1\" class=\"dataframe\">\n",
              "  <thead>\n",
              "    <tr style=\"text-align: right;\">\n",
              "      <th></th>\n",
              "      <th>ogrenci</th>\n",
              "      <th>devamsizlik</th>\n",
              "      <th>uyari</th>\n",
              "    </tr>\n",
              "  </thead>\n",
              "  <tbody>\n",
              "    <tr>\n",
              "      <th>0</th>\n",
              "      <td>Ali</td>\n",
              "      <td>1</td>\n",
              "      <td>0</td>\n",
              "    </tr>\n",
              "    <tr>\n",
              "      <th>1</th>\n",
              "      <td>Veli</td>\n",
              "      <td>3</td>\n",
              "      <td>0</td>\n",
              "    </tr>\n",
              "    <tr>\n",
              "      <th>2</th>\n",
              "      <td>Ahmet</td>\n",
              "      <td>2</td>\n",
              "      <td>0</td>\n",
              "    </tr>\n",
              "    <tr>\n",
              "      <th>3</th>\n",
              "      <td>Ayse</td>\n",
              "      <td>10</td>\n",
              "      <td>1</td>\n",
              "    </tr>\n",
              "    <tr>\n",
              "      <th>4</th>\n",
              "      <td>Merve</td>\n",
              "      <td>2</td>\n",
              "      <td>0</td>\n",
              "    </tr>\n",
              "    <tr>\n",
              "      <th>5</th>\n",
              "      <td>Betul</td>\n",
              "      <td>4</td>\n",
              "      <td>0</td>\n",
              "    </tr>\n",
              "  </tbody>\n",
              "</table>\n",
              "</div>"
            ],
            "text/plain": [
              "  ogrenci  devamsizlik  uyari\n",
              "0     Ali            1      0\n",
              "1    Veli            3      0\n",
              "2   Ahmet            2      0\n",
              "3    Ayse           10      1\n",
              "4   Merve            2      0\n",
              "5   Betul            4      0"
            ]
          },
          "metadata": {
            "tags": []
          },
          "execution_count": 4
        }
      ]
    },
    {
      "cell_type": "markdown",
      "metadata": {
        "id": "fUtj-LFpKvDw"
      },
      "source": [
        "### Aralıklara bölme (Binning)"
      ]
    },
    {
      "cell_type": "markdown",
      "metadata": {
        "id": "81Ewo3o3KvDy"
      },
      "source": [
        "Bu sefer devamsızlıkları belirli aralıklarla ifade edelim ve 5i geçmemiş ama yaklaşanları da belirleyelim.\n",
        "\n",
        "Pandas ile binning denilen bu işlemi yapmak için cut fonksiyonu kullanılır."
      ]
    },
    {
      "cell_type": "code",
      "metadata": {
        "id": "u2f3RkIJKvD1"
      },
      "source": [
        "import numpy as np"
      ],
      "execution_count": null,
      "outputs": []
    },
    {
      "cell_type": "code",
      "metadata": {
        "id": "Kzwlf8L8KvEC",
        "outputId": "347760ba-848e-4276-a77e-5f30916aab55"
      },
      "source": [
        "ogr_dev['Binned_uyari'] = pd.cut(ogr_dev['devamsizlik'], bins=[0, 3, 5, np.inf], labels=['-','sinirda','siniri_asmis'])\n",
        "ogr_dev"
      ],
      "execution_count": null,
      "outputs": [
        {
          "output_type": "execute_result",
          "data": {
            "text/html": [
              "<div>\n",
              "<style scoped>\n",
              "    .dataframe tbody tr th:only-of-type {\n",
              "        vertical-align: middle;\n",
              "    }\n",
              "\n",
              "    .dataframe tbody tr th {\n",
              "        vertical-align: top;\n",
              "    }\n",
              "\n",
              "    .dataframe thead th {\n",
              "        text-align: right;\n",
              "    }\n",
              "</style>\n",
              "<table border=\"1\" class=\"dataframe\">\n",
              "  <thead>\n",
              "    <tr style=\"text-align: right;\">\n",
              "      <th></th>\n",
              "      <th>ogrenci</th>\n",
              "      <th>devamsizlik</th>\n",
              "      <th>uyari</th>\n",
              "      <th>Binned_uyari</th>\n",
              "    </tr>\n",
              "  </thead>\n",
              "  <tbody>\n",
              "    <tr>\n",
              "      <th>0</th>\n",
              "      <td>Ali</td>\n",
              "      <td>1</td>\n",
              "      <td>0</td>\n",
              "      <td>-</td>\n",
              "    </tr>\n",
              "    <tr>\n",
              "      <th>1</th>\n",
              "      <td>Veli</td>\n",
              "      <td>3</td>\n",
              "      <td>0</td>\n",
              "      <td>-</td>\n",
              "    </tr>\n",
              "    <tr>\n",
              "      <th>2</th>\n",
              "      <td>Ahmet</td>\n",
              "      <td>2</td>\n",
              "      <td>0</td>\n",
              "      <td>-</td>\n",
              "    </tr>\n",
              "    <tr>\n",
              "      <th>3</th>\n",
              "      <td>Ayse</td>\n",
              "      <td>10</td>\n",
              "      <td>1</td>\n",
              "      <td>siniri_asmis</td>\n",
              "    </tr>\n",
              "    <tr>\n",
              "      <th>4</th>\n",
              "      <td>Merve</td>\n",
              "      <td>2</td>\n",
              "      <td>0</td>\n",
              "      <td>-</td>\n",
              "    </tr>\n",
              "    <tr>\n",
              "      <th>5</th>\n",
              "      <td>Betul</td>\n",
              "      <td>4</td>\n",
              "      <td>0</td>\n",
              "      <td>sinirda</td>\n",
              "    </tr>\n",
              "  </tbody>\n",
              "</table>\n",
              "</div>"
            ],
            "text/plain": [
              "  ogrenci  devamsizlik  uyari  Binned_uyari\n",
              "0     Ali            1      0             -\n",
              "1    Veli            3      0             -\n",
              "2   Ahmet            2      0             -\n",
              "3    Ayse           10      1  siniri_asmis\n",
              "4   Merve            2      0             -\n",
              "5   Betul            4      0       sinirda"
            ]
          },
          "metadata": {
            "tags": []
          },
          "execution_count": 33
        }
      ]
    },
    {
      "cell_type": "markdown",
      "metadata": {
        "id": "-5MP4_NqKvER"
      },
      "source": [
        "pd.cut fonksiyonunda bins ile aralıkları belirledik. \n",
        "0-3 için -\n",
        "3-5 için sinirda\n",
        "5+ için siniri_asmis"
      ]
    },
    {
      "cell_type": "markdown",
      "metadata": {
        "id": "2UZ1G4SpKvET"
      },
      "source": [
        "### Kayıp veriler"
      ]
    },
    {
      "cell_type": "markdown",
      "metadata": {
        "id": "mDs0qEriKvEV"
      },
      "source": [
        "Gerçek dünya verileri genellikle kullanıma hazır durumda değildir. Verinin uygun şekilde toplanmamış olması, eksik girilmiş olması, elle giriliyorsa basit bir klavye hatası gibi sebeplerle verilerin eğitime hazır hale getirilmesi gerekir. info() fonksiyonunu kullanarak verinin kolonlarındaki non-null entry sayısını görüntülenebilir."
      ]
    },
    {
      "cell_type": "code",
      "metadata": {
        "id": "KR259vl6KvEk"
      },
      "source": [
        "data = pd.read_csv('...heart.csv')"
      ],
      "execution_count": null,
      "outputs": []
    },
    {
      "cell_type": "code",
      "metadata": {
        "id": "rcrzUp6BKvFI",
        "outputId": "a883426c-e02b-454c-f463-68d90bf8bb8e"
      },
      "source": [
        "data"
      ],
      "execution_count": null,
      "outputs": [
        {
          "output_type": "execute_result",
          "data": {
            "text/html": [
              "<div>\n",
              "<style scoped>\n",
              "    .dataframe tbody tr th:only-of-type {\n",
              "        vertical-align: middle;\n",
              "    }\n",
              "\n",
              "    .dataframe tbody tr th {\n",
              "        vertical-align: top;\n",
              "    }\n",
              "\n",
              "    .dataframe thead th {\n",
              "        text-align: right;\n",
              "    }\n",
              "</style>\n",
              "<table border=\"1\" class=\"dataframe\">\n",
              "  <thead>\n",
              "    <tr style=\"text-align: right;\">\n",
              "      <th></th>\n",
              "      <th>age</th>\n",
              "      <th>sex</th>\n",
              "      <th>chol</th>\n",
              "    </tr>\n",
              "  </thead>\n",
              "  <tbody>\n",
              "    <tr>\n",
              "      <th>0</th>\n",
              "      <td>63.0</td>\n",
              "      <td>1</td>\n",
              "      <td>233.0</td>\n",
              "    </tr>\n",
              "    <tr>\n",
              "      <th>1</th>\n",
              "      <td>37.0</td>\n",
              "      <td>1</td>\n",
              "      <td>NaN</td>\n",
              "    </tr>\n",
              "    <tr>\n",
              "      <th>2</th>\n",
              "      <td>41.0</td>\n",
              "      <td>0</td>\n",
              "      <td>204.0</td>\n",
              "    </tr>\n",
              "    <tr>\n",
              "      <th>3</th>\n",
              "      <td>NaN</td>\n",
              "      <td>1</td>\n",
              "      <td>236.0</td>\n",
              "    </tr>\n",
              "    <tr>\n",
              "      <th>4</th>\n",
              "      <td>57.0</td>\n",
              "      <td>0</td>\n",
              "      <td>354.0</td>\n",
              "    </tr>\n",
              "    <tr>\n",
              "      <th>5</th>\n",
              "      <td>57.0</td>\n",
              "      <td>1</td>\n",
              "      <td>NaN</td>\n",
              "    </tr>\n",
              "    <tr>\n",
              "      <th>6</th>\n",
              "      <td>NaN</td>\n",
              "      <td>0</td>\n",
              "      <td>294.0</td>\n",
              "    </tr>\n",
              "    <tr>\n",
              "      <th>7</th>\n",
              "      <td>44.0</td>\n",
              "      <td>1</td>\n",
              "      <td>263.0</td>\n",
              "    </tr>\n",
              "    <tr>\n",
              "      <th>8</th>\n",
              "      <td>52.0</td>\n",
              "      <td>1</td>\n",
              "      <td>199.0</td>\n",
              "    </tr>\n",
              "    <tr>\n",
              "      <th>9</th>\n",
              "      <td>57.0</td>\n",
              "      <td>1</td>\n",
              "      <td>168.0</td>\n",
              "    </tr>\n",
              "  </tbody>\n",
              "</table>\n",
              "</div>"
            ],
            "text/plain": [
              "    age  sex   chol\n",
              "0  63.0    1  233.0\n",
              "1  37.0    1    NaN\n",
              "2  41.0    0  204.0\n",
              "3   NaN    1  236.0\n",
              "4  57.0    0  354.0\n",
              "5  57.0    1    NaN\n",
              "6   NaN    0  294.0\n",
              "7  44.0    1  263.0\n",
              "8  52.0    1  199.0\n",
              "9  57.0    1  168.0"
            ]
          },
          "metadata": {
            "tags": []
          },
          "execution_count": 5
        }
      ]
    },
    {
      "cell_type": "markdown",
      "metadata": {
        "id": "EILN_tvwKvFV"
      },
      "source": [
        "Bu data, kalp hastalıklarıyla ilgili bir veri setinin küçük bir bölümünü göstermektedir.\n",
        "age = yaş\n",
        "sex = cinsiyet\n",
        "chol = kolestrol\n",
        "Veri seti normalde NaN değer içermiyor, örnek olması açısından bazı değerleri sildim.\n",
        "NaN = Not a Number"
      ]
    },
    {
      "cell_type": "code",
      "metadata": {
        "id": "9ECz8UIkKvFX",
        "outputId": "2be46fe6-79e7-47f7-d651-b74c8c859232"
      },
      "source": [
        "data.info()"
      ],
      "execution_count": null,
      "outputs": [
        {
          "output_type": "stream",
          "text": [
            "<class 'pandas.core.frame.DataFrame'>\n",
            "RangeIndex: 10 entries, 0 to 9\n",
            "Data columns (total 3 columns):\n",
            " #   Column  Non-Null Count  Dtype  \n",
            "---  ------  --------------  -----  \n",
            " 0   age     8 non-null      float64\n",
            " 1   sex     10 non-null     int64  \n",
            " 2   chol    8 non-null      float64\n",
            "dtypes: float64(2), int64(1)\n",
            "memory usage: 368.0 bytes\n"
          ],
          "name": "stdout"
        }
      ]
    },
    {
      "cell_type": "markdown",
      "metadata": {
        "id": "IyCdiI5DKvFo"
      },
      "source": [
        "Veri setini incelediğimizde 10 indeksli olduğunu, 'age' kolonunda 8, 'chol' kolonunda 8 non-null girdi olmasından da bazı girdilerin eksik olduğunu görüyoruz. Bu eksik değerlerin yerlerini veri setinde görmek için isnull() kullanılır."
      ]
    },
    {
      "cell_type": "code",
      "metadata": {
        "id": "6jVkYr1OKvFq",
        "outputId": "ee24b509-c132-4681-c5aa-16cd728eef98"
      },
      "source": [
        "data.isnull()"
      ],
      "execution_count": null,
      "outputs": [
        {
          "output_type": "execute_result",
          "data": {
            "text/html": [
              "<div>\n",
              "<style scoped>\n",
              "    .dataframe tbody tr th:only-of-type {\n",
              "        vertical-align: middle;\n",
              "    }\n",
              "\n",
              "    .dataframe tbody tr th {\n",
              "        vertical-align: top;\n",
              "    }\n",
              "\n",
              "    .dataframe thead th {\n",
              "        text-align: right;\n",
              "    }\n",
              "</style>\n",
              "<table border=\"1\" class=\"dataframe\">\n",
              "  <thead>\n",
              "    <tr style=\"text-align: right;\">\n",
              "      <th></th>\n",
              "      <th>age</th>\n",
              "      <th>sex</th>\n",
              "      <th>chol</th>\n",
              "    </tr>\n",
              "  </thead>\n",
              "  <tbody>\n",
              "    <tr>\n",
              "      <th>0</th>\n",
              "      <td>False</td>\n",
              "      <td>False</td>\n",
              "      <td>False</td>\n",
              "    </tr>\n",
              "    <tr>\n",
              "      <th>1</th>\n",
              "      <td>False</td>\n",
              "      <td>False</td>\n",
              "      <td>True</td>\n",
              "    </tr>\n",
              "    <tr>\n",
              "      <th>2</th>\n",
              "      <td>False</td>\n",
              "      <td>False</td>\n",
              "      <td>False</td>\n",
              "    </tr>\n",
              "    <tr>\n",
              "      <th>3</th>\n",
              "      <td>True</td>\n",
              "      <td>False</td>\n",
              "      <td>False</td>\n",
              "    </tr>\n",
              "    <tr>\n",
              "      <th>4</th>\n",
              "      <td>False</td>\n",
              "      <td>False</td>\n",
              "      <td>False</td>\n",
              "    </tr>\n",
              "    <tr>\n",
              "      <th>5</th>\n",
              "      <td>False</td>\n",
              "      <td>False</td>\n",
              "      <td>True</td>\n",
              "    </tr>\n",
              "    <tr>\n",
              "      <th>6</th>\n",
              "      <td>True</td>\n",
              "      <td>False</td>\n",
              "      <td>False</td>\n",
              "    </tr>\n",
              "    <tr>\n",
              "      <th>7</th>\n",
              "      <td>False</td>\n",
              "      <td>False</td>\n",
              "      <td>False</td>\n",
              "    </tr>\n",
              "    <tr>\n",
              "      <th>8</th>\n",
              "      <td>False</td>\n",
              "      <td>False</td>\n",
              "      <td>False</td>\n",
              "    </tr>\n",
              "    <tr>\n",
              "      <th>9</th>\n",
              "      <td>False</td>\n",
              "      <td>False</td>\n",
              "      <td>False</td>\n",
              "    </tr>\n",
              "  </tbody>\n",
              "</table>\n",
              "</div>"
            ],
            "text/plain": [
              "     age    sex   chol\n",
              "0  False  False  False\n",
              "1  False  False   True\n",
              "2  False  False  False\n",
              "3   True  False  False\n",
              "4  False  False  False\n",
              "5  False  False   True\n",
              "6   True  False  False\n",
              "7  False  False  False\n",
              "8  False  False  False\n",
              "9  False  False  False"
            ]
          },
          "metadata": {
            "tags": []
          },
          "execution_count": 7
        }
      ]
    },
    {
      "cell_type": "markdown",
      "metadata": {
        "id": "lk0F2s5nKvF6"
      },
      "source": [
        "is null sorguladığımız için True olan değerler bize eksik verileri gösterecektir. Eğer eksik verilerin toplamı görülmek isteniyorsa:"
      ]
    },
    {
      "cell_type": "code",
      "metadata": {
        "id": "qtq38HHFKvF8",
        "outputId": "51778313-ba0a-4c6f-d8ad-8b0888b41f8e"
      },
      "source": [
        "data.isnull().sum()"
      ],
      "execution_count": null,
      "outputs": [
        {
          "output_type": "execute_result",
          "data": {
            "text/plain": [
              "age     2\n",
              "sex     0\n",
              "chol    2\n",
              "dtype: int64"
            ]
          },
          "metadata": {
            "tags": []
          },
          "execution_count": 8
        }
      ]
    },
    {
      "cell_type": "code",
      "metadata": {
        "id": "nn8Q7vhoKvGK",
        "outputId": "c0b09382-fe72-4740-c4b3-a878bccf6907"
      },
      "source": [
        "data['chol'].isnull().sum()"
      ],
      "execution_count": null,
      "outputs": [
        {
          "output_type": "execute_result",
          "data": {
            "text/plain": [
              "2"
            ]
          },
          "metadata": {
            "tags": []
          },
          "execution_count": 9
        }
      ]
    },
    {
      "cell_type": "markdown",
      "metadata": {
        "id": "qvz-XU8QKvGa"
      },
      "source": [
        "Aynı şekilde null olmayan girdiler de sorgulanabilir:"
      ]
    },
    {
      "cell_type": "code",
      "metadata": {
        "id": "BYcbvGPpKvGd",
        "outputId": "c1fd3702-aa31-416a-b7b3-cd43bd127b63"
      },
      "source": [
        "data.notnull()"
      ],
      "execution_count": null,
      "outputs": [
        {
          "output_type": "execute_result",
          "data": {
            "text/html": [
              "<div>\n",
              "<style scoped>\n",
              "    .dataframe tbody tr th:only-of-type {\n",
              "        vertical-align: middle;\n",
              "    }\n",
              "\n",
              "    .dataframe tbody tr th {\n",
              "        vertical-align: top;\n",
              "    }\n",
              "\n",
              "    .dataframe thead th {\n",
              "        text-align: right;\n",
              "    }\n",
              "</style>\n",
              "<table border=\"1\" class=\"dataframe\">\n",
              "  <thead>\n",
              "    <tr style=\"text-align: right;\">\n",
              "      <th></th>\n",
              "      <th>age</th>\n",
              "      <th>sex</th>\n",
              "      <th>chol</th>\n",
              "    </tr>\n",
              "  </thead>\n",
              "  <tbody>\n",
              "    <tr>\n",
              "      <th>0</th>\n",
              "      <td>True</td>\n",
              "      <td>True</td>\n",
              "      <td>True</td>\n",
              "    </tr>\n",
              "    <tr>\n",
              "      <th>1</th>\n",
              "      <td>True</td>\n",
              "      <td>True</td>\n",
              "      <td>False</td>\n",
              "    </tr>\n",
              "    <tr>\n",
              "      <th>2</th>\n",
              "      <td>True</td>\n",
              "      <td>True</td>\n",
              "      <td>True</td>\n",
              "    </tr>\n",
              "    <tr>\n",
              "      <th>3</th>\n",
              "      <td>False</td>\n",
              "      <td>True</td>\n",
              "      <td>True</td>\n",
              "    </tr>\n",
              "    <tr>\n",
              "      <th>4</th>\n",
              "      <td>True</td>\n",
              "      <td>True</td>\n",
              "      <td>True</td>\n",
              "    </tr>\n",
              "    <tr>\n",
              "      <th>5</th>\n",
              "      <td>True</td>\n",
              "      <td>True</td>\n",
              "      <td>False</td>\n",
              "    </tr>\n",
              "    <tr>\n",
              "      <th>6</th>\n",
              "      <td>False</td>\n",
              "      <td>True</td>\n",
              "      <td>True</td>\n",
              "    </tr>\n",
              "    <tr>\n",
              "      <th>7</th>\n",
              "      <td>True</td>\n",
              "      <td>True</td>\n",
              "      <td>True</td>\n",
              "    </tr>\n",
              "    <tr>\n",
              "      <th>8</th>\n",
              "      <td>True</td>\n",
              "      <td>True</td>\n",
              "      <td>True</td>\n",
              "    </tr>\n",
              "    <tr>\n",
              "      <th>9</th>\n",
              "      <td>True</td>\n",
              "      <td>True</td>\n",
              "      <td>True</td>\n",
              "    </tr>\n",
              "  </tbody>\n",
              "</table>\n",
              "</div>"
            ],
            "text/plain": [
              "     age   sex   chol\n",
              "0   True  True   True\n",
              "1   True  True  False\n",
              "2   True  True   True\n",
              "3  False  True   True\n",
              "4   True  True   True\n",
              "5   True  True  False\n",
              "6  False  True   True\n",
              "7   True  True   True\n",
              "8   True  True   True\n",
              "9   True  True   True"
            ]
          },
          "metadata": {
            "tags": []
          },
          "execution_count": 10
        }
      ]
    },
    {
      "cell_type": "markdown",
      "metadata": {
        "id": "OoLLNqfyKvG0"
      },
      "source": [
        "Eksik verileri tespit ettikten sonra bunlarla ilgili neler yapılabileceğine sıra geldi."
      ]
    },
    {
      "cell_type": "markdown",
      "metadata": {
        "id": "S3xBYszRKvG8"
      },
      "source": [
        "### Eksik değerleri silme"
      ]
    },
    {
      "cell_type": "code",
      "metadata": {
        "id": "o5aNUQCcKvHB",
        "outputId": "0fa648f6-d60e-4074-d7cf-49997dc03d0b"
      },
      "source": [
        "data.dropna(how='any')"
      ],
      "execution_count": null,
      "outputs": [
        {
          "output_type": "execute_result",
          "data": {
            "text/html": [
              "<div>\n",
              "<style scoped>\n",
              "    .dataframe tbody tr th:only-of-type {\n",
              "        vertical-align: middle;\n",
              "    }\n",
              "\n",
              "    .dataframe tbody tr th {\n",
              "        vertical-align: top;\n",
              "    }\n",
              "\n",
              "    .dataframe thead th {\n",
              "        text-align: right;\n",
              "    }\n",
              "</style>\n",
              "<table border=\"1\" class=\"dataframe\">\n",
              "  <thead>\n",
              "    <tr style=\"text-align: right;\">\n",
              "      <th></th>\n",
              "      <th>age</th>\n",
              "      <th>sex</th>\n",
              "      <th>chol</th>\n",
              "    </tr>\n",
              "  </thead>\n",
              "  <tbody>\n",
              "    <tr>\n",
              "      <th>0</th>\n",
              "      <td>63.0</td>\n",
              "      <td>1</td>\n",
              "      <td>233.0</td>\n",
              "    </tr>\n",
              "    <tr>\n",
              "      <th>2</th>\n",
              "      <td>41.0</td>\n",
              "      <td>0</td>\n",
              "      <td>204.0</td>\n",
              "    </tr>\n",
              "    <tr>\n",
              "      <th>4</th>\n",
              "      <td>57.0</td>\n",
              "      <td>0</td>\n",
              "      <td>354.0</td>\n",
              "    </tr>\n",
              "    <tr>\n",
              "      <th>7</th>\n",
              "      <td>44.0</td>\n",
              "      <td>1</td>\n",
              "      <td>263.0</td>\n",
              "    </tr>\n",
              "    <tr>\n",
              "      <th>8</th>\n",
              "      <td>52.0</td>\n",
              "      <td>1</td>\n",
              "      <td>199.0</td>\n",
              "    </tr>\n",
              "    <tr>\n",
              "      <th>9</th>\n",
              "      <td>57.0</td>\n",
              "      <td>1</td>\n",
              "      <td>168.0</td>\n",
              "    </tr>\n",
              "  </tbody>\n",
              "</table>\n",
              "</div>"
            ],
            "text/plain": [
              "    age  sex   chol\n",
              "0  63.0    1  233.0\n",
              "2  41.0    0  204.0\n",
              "4  57.0    0  354.0\n",
              "7  44.0    1  263.0\n",
              "8  52.0    1  199.0\n",
              "9  57.0    1  168.0"
            ]
          },
          "metadata": {
            "tags": []
          },
          "execution_count": 11
        }
      ]
    },
    {
      "cell_type": "markdown",
      "metadata": {
        "id": "QZpUNNn9KvHZ"
      },
      "source": [
        "Bu işlem belirli bir kolona da uygulanabilir."
      ]
    },
    {
      "cell_type": "code",
      "metadata": {
        "id": "ot8KMQUjKvHb",
        "outputId": "a71a2a97-bf46-469b-c018-2e1228fa8d33"
      },
      "source": [
        "data.dropna(subset=['chol'])"
      ],
      "execution_count": null,
      "outputs": [
        {
          "output_type": "execute_result",
          "data": {
            "text/html": [
              "<div>\n",
              "<style scoped>\n",
              "    .dataframe tbody tr th:only-of-type {\n",
              "        vertical-align: middle;\n",
              "    }\n",
              "\n",
              "    .dataframe tbody tr th {\n",
              "        vertical-align: top;\n",
              "    }\n",
              "\n",
              "    .dataframe thead th {\n",
              "        text-align: right;\n",
              "    }\n",
              "</style>\n",
              "<table border=\"1\" class=\"dataframe\">\n",
              "  <thead>\n",
              "    <tr style=\"text-align: right;\">\n",
              "      <th></th>\n",
              "      <th>age</th>\n",
              "      <th>sex</th>\n",
              "      <th>chol</th>\n",
              "    </tr>\n",
              "  </thead>\n",
              "  <tbody>\n",
              "    <tr>\n",
              "      <th>0</th>\n",
              "      <td>63.0</td>\n",
              "      <td>1</td>\n",
              "      <td>233.0</td>\n",
              "    </tr>\n",
              "    <tr>\n",
              "      <th>2</th>\n",
              "      <td>41.0</td>\n",
              "      <td>0</td>\n",
              "      <td>204.0</td>\n",
              "    </tr>\n",
              "    <tr>\n",
              "      <th>3</th>\n",
              "      <td>NaN</td>\n",
              "      <td>1</td>\n",
              "      <td>236.0</td>\n",
              "    </tr>\n",
              "    <tr>\n",
              "      <th>4</th>\n",
              "      <td>57.0</td>\n",
              "      <td>0</td>\n",
              "      <td>354.0</td>\n",
              "    </tr>\n",
              "    <tr>\n",
              "      <th>6</th>\n",
              "      <td>NaN</td>\n",
              "      <td>0</td>\n",
              "      <td>294.0</td>\n",
              "    </tr>\n",
              "    <tr>\n",
              "      <th>7</th>\n",
              "      <td>44.0</td>\n",
              "      <td>1</td>\n",
              "      <td>263.0</td>\n",
              "    </tr>\n",
              "    <tr>\n",
              "      <th>8</th>\n",
              "      <td>52.0</td>\n",
              "      <td>1</td>\n",
              "      <td>199.0</td>\n",
              "    </tr>\n",
              "    <tr>\n",
              "      <th>9</th>\n",
              "      <td>57.0</td>\n",
              "      <td>1</td>\n",
              "      <td>168.0</td>\n",
              "    </tr>\n",
              "  </tbody>\n",
              "</table>\n",
              "</div>"
            ],
            "text/plain": [
              "    age  sex   chol\n",
              "0  63.0    1  233.0\n",
              "2  41.0    0  204.0\n",
              "3   NaN    1  236.0\n",
              "4  57.0    0  354.0\n",
              "6   NaN    0  294.0\n",
              "7  44.0    1  263.0\n",
              "8  52.0    1  199.0\n",
              "9  57.0    1  168.0"
            ]
          },
          "metadata": {
            "tags": []
          },
          "execution_count": 13
        }
      ]
    },
    {
      "cell_type": "markdown",
      "metadata": {
        "id": "0yqPcD6UKvHp"
      },
      "source": [
        "Sadece 'chol' kolonunda eksik veri bulunduran satırlar silindi."
      ]
    },
    {
      "cell_type": "code",
      "metadata": {
        "id": "JU9zx5f_KvHr",
        "outputId": "f3eeb219-0f0b-439c-bf4f-a7d63c4e1dad"
      },
      "source": [
        "data"
      ],
      "execution_count": null,
      "outputs": [
        {
          "output_type": "execute_result",
          "data": {
            "text/html": [
              "<div>\n",
              "<style scoped>\n",
              "    .dataframe tbody tr th:only-of-type {\n",
              "        vertical-align: middle;\n",
              "    }\n",
              "\n",
              "    .dataframe tbody tr th {\n",
              "        vertical-align: top;\n",
              "    }\n",
              "\n",
              "    .dataframe thead th {\n",
              "        text-align: right;\n",
              "    }\n",
              "</style>\n",
              "<table border=\"1\" class=\"dataframe\">\n",
              "  <thead>\n",
              "    <tr style=\"text-align: right;\">\n",
              "      <th></th>\n",
              "      <th>age</th>\n",
              "      <th>sex</th>\n",
              "      <th>chol</th>\n",
              "    </tr>\n",
              "  </thead>\n",
              "  <tbody>\n",
              "    <tr>\n",
              "      <th>0</th>\n",
              "      <td>63.0</td>\n",
              "      <td>1</td>\n",
              "      <td>233.0</td>\n",
              "    </tr>\n",
              "    <tr>\n",
              "      <th>1</th>\n",
              "      <td>37.0</td>\n",
              "      <td>1</td>\n",
              "      <td>NaN</td>\n",
              "    </tr>\n",
              "    <tr>\n",
              "      <th>2</th>\n",
              "      <td>41.0</td>\n",
              "      <td>0</td>\n",
              "      <td>204.0</td>\n",
              "    </tr>\n",
              "    <tr>\n",
              "      <th>3</th>\n",
              "      <td>NaN</td>\n",
              "      <td>1</td>\n",
              "      <td>236.0</td>\n",
              "    </tr>\n",
              "    <tr>\n",
              "      <th>4</th>\n",
              "      <td>57.0</td>\n",
              "      <td>0</td>\n",
              "      <td>354.0</td>\n",
              "    </tr>\n",
              "    <tr>\n",
              "      <th>5</th>\n",
              "      <td>57.0</td>\n",
              "      <td>1</td>\n",
              "      <td>NaN</td>\n",
              "    </tr>\n",
              "    <tr>\n",
              "      <th>6</th>\n",
              "      <td>NaN</td>\n",
              "      <td>0</td>\n",
              "      <td>294.0</td>\n",
              "    </tr>\n",
              "    <tr>\n",
              "      <th>7</th>\n",
              "      <td>44.0</td>\n",
              "      <td>1</td>\n",
              "      <td>263.0</td>\n",
              "    </tr>\n",
              "    <tr>\n",
              "      <th>8</th>\n",
              "      <td>52.0</td>\n",
              "      <td>1</td>\n",
              "      <td>199.0</td>\n",
              "    </tr>\n",
              "    <tr>\n",
              "      <th>9</th>\n",
              "      <td>57.0</td>\n",
              "      <td>1</td>\n",
              "      <td>168.0</td>\n",
              "    </tr>\n",
              "  </tbody>\n",
              "</table>\n",
              "</div>"
            ],
            "text/plain": [
              "    age  sex   chol\n",
              "0  63.0    1  233.0\n",
              "1  37.0    1    NaN\n",
              "2  41.0    0  204.0\n",
              "3   NaN    1  236.0\n",
              "4  57.0    0  354.0\n",
              "5  57.0    1    NaN\n",
              "6   NaN    0  294.0\n",
              "7  44.0    1  263.0\n",
              "8  52.0    1  199.0\n",
              "9  57.0    1  168.0"
            ]
          },
          "metadata": {
            "tags": []
          },
          "execution_count": 12
        }
      ]
    },
    {
      "cell_type": "markdown",
      "metadata": {
        "id": "hWTrfvb_KvH5"
      },
      "source": [
        "Ancak veriye bakarsak NaN değerleri içerdiğini görürüz. Yaptığımız bu değişikliği veri setine kalıcı olarak uygulamak için inplace='True' eklemek gerekir. Default olarak False'dur."
      ]
    },
    {
      "cell_type": "code",
      "metadata": {
        "id": "QunR2aB_KvH8",
        "outputId": "5a5a04cf-8827-4746-b80e-7fec2b5ee385"
      },
      "source": [
        "data.dropna(how='any', inplace=True)\n",
        "data"
      ],
      "execution_count": null,
      "outputs": [
        {
          "output_type": "execute_result",
          "data": {
            "text/html": [
              "<div>\n",
              "<style scoped>\n",
              "    .dataframe tbody tr th:only-of-type {\n",
              "        vertical-align: middle;\n",
              "    }\n",
              "\n",
              "    .dataframe tbody tr th {\n",
              "        vertical-align: top;\n",
              "    }\n",
              "\n",
              "    .dataframe thead th {\n",
              "        text-align: right;\n",
              "    }\n",
              "</style>\n",
              "<table border=\"1\" class=\"dataframe\">\n",
              "  <thead>\n",
              "    <tr style=\"text-align: right;\">\n",
              "      <th></th>\n",
              "      <th>age</th>\n",
              "      <th>sex</th>\n",
              "      <th>chol</th>\n",
              "    </tr>\n",
              "  </thead>\n",
              "  <tbody>\n",
              "    <tr>\n",
              "      <th>0</th>\n",
              "      <td>63.0</td>\n",
              "      <td>1</td>\n",
              "      <td>233.0</td>\n",
              "    </tr>\n",
              "    <tr>\n",
              "      <th>2</th>\n",
              "      <td>41.0</td>\n",
              "      <td>0</td>\n",
              "      <td>204.0</td>\n",
              "    </tr>\n",
              "    <tr>\n",
              "      <th>4</th>\n",
              "      <td>57.0</td>\n",
              "      <td>0</td>\n",
              "      <td>354.0</td>\n",
              "    </tr>\n",
              "    <tr>\n",
              "      <th>7</th>\n",
              "      <td>44.0</td>\n",
              "      <td>1</td>\n",
              "      <td>263.0</td>\n",
              "    </tr>\n",
              "    <tr>\n",
              "      <th>8</th>\n",
              "      <td>52.0</td>\n",
              "      <td>1</td>\n",
              "      <td>199.0</td>\n",
              "    </tr>\n",
              "    <tr>\n",
              "      <th>9</th>\n",
              "      <td>57.0</td>\n",
              "      <td>1</td>\n",
              "      <td>168.0</td>\n",
              "    </tr>\n",
              "  </tbody>\n",
              "</table>\n",
              "</div>"
            ],
            "text/plain": [
              "    age  sex   chol\n",
              "0  63.0    1  233.0\n",
              "2  41.0    0  204.0\n",
              "4  57.0    0  354.0\n",
              "7  44.0    1  263.0\n",
              "8  52.0    1  199.0\n",
              "9  57.0    1  168.0"
            ]
          },
          "metadata": {
            "tags": []
          },
          "execution_count": 15
        }
      ]
    },
    {
      "cell_type": "markdown",
      "metadata": {
        "id": "PQMeXZ_hKvIL"
      },
      "source": [
        "### Eksik değerleri doldurma"
      ]
    },
    {
      "cell_type": "markdown",
      "metadata": {
        "id": "nxWHxD3WKvIN"
      },
      "source": [
        "Veri setindeki eksik değerleri silmenin yanı sıra uygun değerlerle doldurmak da doğru bir yöntem olabilir. Örneğin, sayısal değer içeren kolonlar için, eksik değeri o kolonun ortalaması olan sayıyla doldurabiliriz. Kolonda eksik veri oranı az ise bu iyi bir seçim olabilir."
      ]
    },
    {
      "cell_type": "code",
      "metadata": {
        "id": "FruVKhzVKvIQ",
        "outputId": "44fb6c82-0bf7-4f2f-804b-ed8f528ca2ec"
      },
      "source": [
        "data['chol'].fillna(value=data['chol'].mean(), inplace=True)\n",
        "data['chol']"
      ],
      "execution_count": null,
      "outputs": [
        {
          "output_type": "execute_result",
          "data": {
            "text/plain": [
              "0    233.000\n",
              "1    243.875\n",
              "2    204.000\n",
              "3    236.000\n",
              "4    354.000\n",
              "5    243.875\n",
              "6    294.000\n",
              "7    263.000\n",
              "8    199.000\n",
              "9    168.000\n",
              "Name: chol, dtype: float64"
            ]
          },
          "metadata": {
            "tags": []
          },
          "execution_count": 19
        }
      ]
    },
    {
      "cell_type": "markdown",
      "metadata": {
        "id": "oQH-awmXKvIe"
      },
      "source": [
        "Ortalama değer, ondalıklı sayı olabilir ve eğer bu istenmeyen bir durumsa 2 şekilde düzeltilebilir:\n",
        "-Veri tipi integer olarak değiştirilerek\n",
        "-Ortalama değeri yuvarlayarak"
      ]
    },
    {
      "cell_type": "code",
      "metadata": {
        "id": "sV3OwyEUKvIg",
        "outputId": "6504ec8c-2bec-47b5-f8c6-df890880d3e6"
      },
      "source": [
        "data['chol'].astype('int64')"
      ],
      "execution_count": null,
      "outputs": [
        {
          "output_type": "execute_result",
          "data": {
            "text/plain": [
              "0    233\n",
              "1    244\n",
              "2    204\n",
              "3    236\n",
              "4    354\n",
              "5    244\n",
              "6    294\n",
              "7    263\n",
              "8    199\n",
              "9    168\n",
              "Name: chol, dtype: int64"
            ]
          },
          "metadata": {
            "tags": []
          },
          "execution_count": 37
        }
      ]
    },
    {
      "cell_type": "code",
      "metadata": {
        "id": "_VyjUXo4KvIq",
        "outputId": "b7857532-495f-4343-83d0-5a82c89345f7"
      },
      "source": [
        "x = round(data['chol'].mean())\n",
        "x"
      ],
      "execution_count": null,
      "outputs": [
        {
          "output_type": "execute_result",
          "data": {
            "text/plain": [
              "244"
            ]
          },
          "metadata": {
            "tags": []
          },
          "execution_count": 28
        }
      ]
    },
    {
      "cell_type": "code",
      "metadata": {
        "id": "VpGNKHbIKvI8",
        "outputId": "3612f2d5-5654-4e1e-e557-7e60e3a83ecd"
      },
      "source": [
        "data['chol'].fillna(value=x, inplace=True)\n",
        "data['chol']"
      ],
      "execution_count": null,
      "outputs": [
        {
          "output_type": "execute_result",
          "data": {
            "text/plain": [
              "0    233.0\n",
              "1    244.0\n",
              "2    204.0\n",
              "3    236.0\n",
              "4    354.0\n",
              "5    244.0\n",
              "6    294.0\n",
              "7    263.0\n",
              "8    199.0\n",
              "9    168.0\n",
              "Name: chol, dtype: float64"
            ]
          },
          "metadata": {
            "tags": []
          },
          "execution_count": 32
        }
      ]
    },
    {
      "cell_type": "markdown",
      "metadata": {
        "id": "hjRZzBbfKvJU"
      },
      "source": [
        "### Karakter değiştirme"
      ]
    },
    {
      "cell_type": "markdown",
      "metadata": {
        "id": "15HLvrFVKvJV"
      },
      "source": [
        "Veri setinde değiştirilmek istenen karakter için str.replace() kullanılır. Örnek olarak aşağıdaki veride Ayse Nur olarak yazılması gerekek girdi Ayse,Nur olarak yazılmış. "
      ]
    },
    {
      "cell_type": "code",
      "metadata": {
        "id": "1grxHuAjKvJa",
        "outputId": "e205728f-cd35-4f12-d1fc-e25e6a859ac4"
      },
      "source": [
        "veri = { 'ad':['Ali','Veli','Ahmet','Ayse,Nur','Merve','Betul'], 'devamsizlik':[1,3,2,10,2,4]}\n",
        "ogrenci = pd.DataFrame(data=veri)\n",
        "ogrenci"
      ],
      "execution_count": null,
      "outputs": [
        {
          "output_type": "execute_result",
          "data": {
            "text/html": [
              "<div>\n",
              "<style scoped>\n",
              "    .dataframe tbody tr th:only-of-type {\n",
              "        vertical-align: middle;\n",
              "    }\n",
              "\n",
              "    .dataframe tbody tr th {\n",
              "        vertical-align: top;\n",
              "    }\n",
              "\n",
              "    .dataframe thead th {\n",
              "        text-align: right;\n",
              "    }\n",
              "</style>\n",
              "<table border=\"1\" class=\"dataframe\">\n",
              "  <thead>\n",
              "    <tr style=\"text-align: right;\">\n",
              "      <th></th>\n",
              "      <th>ad</th>\n",
              "      <th>devamsizlik</th>\n",
              "    </tr>\n",
              "  </thead>\n",
              "  <tbody>\n",
              "    <tr>\n",
              "      <th>0</th>\n",
              "      <td>Ali</td>\n",
              "      <td>1</td>\n",
              "    </tr>\n",
              "    <tr>\n",
              "      <th>1</th>\n",
              "      <td>Veli</td>\n",
              "      <td>3</td>\n",
              "    </tr>\n",
              "    <tr>\n",
              "      <th>2</th>\n",
              "      <td>Ahmet</td>\n",
              "      <td>2</td>\n",
              "    </tr>\n",
              "    <tr>\n",
              "      <th>3</th>\n",
              "      <td>Ayse,Nur</td>\n",
              "      <td>10</td>\n",
              "    </tr>\n",
              "    <tr>\n",
              "      <th>4</th>\n",
              "      <td>Merve</td>\n",
              "      <td>2</td>\n",
              "    </tr>\n",
              "    <tr>\n",
              "      <th>5</th>\n",
              "      <td>Betul</td>\n",
              "      <td>4</td>\n",
              "    </tr>\n",
              "  </tbody>\n",
              "</table>\n",
              "</div>"
            ],
            "text/plain": [
              "         ad  devamsizlik\n",
              "0       Ali            1\n",
              "1      Veli            3\n",
              "2     Ahmet            2\n",
              "3  Ayse,Nur           10\n",
              "4     Merve            2\n",
              "5     Betul            4"
            ]
          },
          "metadata": {
            "tags": []
          },
          "execution_count": 43
        }
      ]
    },
    {
      "cell_type": "code",
      "metadata": {
        "id": "udwbjLKiKvJl"
      },
      "source": [
        "ogrenci = ogrenci['ad'].str.replace(',',' ') \n",
        "# değiştirilmek istenen yerine boşluk bıraktım. Virgülün kaldırılması istenen durumlar için sadece '' konulmalıdır."
      ],
      "execution_count": null,
      "outputs": []
    },
    {
      "cell_type": "code",
      "metadata": {
        "id": "wmZM76O8KvJx",
        "outputId": "639fc976-910d-44d8-c3cf-aaab8d5a2b0b"
      },
      "source": [
        "ogrenci"
      ],
      "execution_count": null,
      "outputs": [
        {
          "output_type": "execute_result",
          "data": {
            "text/plain": [
              "0         Ali\n",
              "1        Veli\n",
              "2       Ahmet\n",
              "3    Ayse Nur\n",
              "4       Merve\n",
              "5       Betul\n",
              "Name: ad, dtype: object"
            ]
          },
          "metadata": {
            "tags": []
          },
          "execution_count": 45
        }
      ]
    }
  ]
}
